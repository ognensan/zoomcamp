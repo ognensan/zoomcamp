{
 "cells": [
  {
   "cell_type": "code",
   "execution_count": null,
   "metadata": {},
   "outputs": [],
   "source": [
    "# run vanila version to check it works\n",
    "!python homework-3.py"
   ]
  },
  {
   "cell_type": "markdown",
   "metadata": {},
   "source": [
    "# Q1. Converting the script to a Prefect flow\n",
    "\n",
    "We want to bring this to workflow orchestration to add observability around it. The main function will be converted to a flow and the other functions will be tasks. After adding all of the decorators, there is actually one task that you will need to call .result() for inside the flow to get it to work. Which task is this?\n",
    "\n",
    "- read_data\n",
    "- prepare_features\n",
    "- train_model\n",
    "- run_model"
   ]
  },
  {
   "cell_type": "markdown",
   "metadata": {},
   "source": [
    "The only function that returns more than 1 parameter is `train_model` and that one needs the `.result()` call"
   ]
  },
  {
   "cell_type": "markdown",
   "metadata": {},
   "source": [
    "# Q2. Parameterizing the flow\n",
    "\n",
    "By setting up the logger from the previous step, we should see some logs about our training job. What is the validation MSE when running the flow with this date?\n",
    "\n",
    "The validation MSE is:\n",
    "\n",
    "- 11.637\n",
    "- 11.837\n",
    "- 12.037\n",
    "- 12.237"
   ]
  },
  {
   "cell_type": "markdown",
   "metadata": {},
   "source": []
  },
  {
   "cell_type": "markdown",
   "metadata": {},
   "source": [
    "# Q3. Saving the model and artifacts\n",
    "\n",
    "What is the file size of the `DictVectorizer` that we trained when the `date` is 2021-08-15?\n",
    "\n",
    "- 13,000 bytes\n",
    "- 23,000 bytes\n",
    "- 33,000 bytes\n",
    "- 43,000 bytes"
   ]
  },
  {
   "cell_type": "markdown",
   "metadata": {},
   "source": []
  },
  {
   "cell_type": "markdown",
   "metadata": {},
   "source": [
    "# Q4. Creating a deployment with a CronSchedule\n",
    "\n",
    "What is the Cron expression to run a flow at 9 AM every 15th of the month?\n",
    "\n",
    "- `* * 15 9 0`\n",
    "- `9 15 * * *`\n",
    "- `0 9 15 * *`\n",
    "- `0 15 9 1 *`"
   ]
  },
  {
   "cell_type": "markdown",
   "metadata": {},
   "source": [
    "This is the syntax for a CRON job: MIN HOUR DOM MON DOW CMD  \n",
    "So the correct one is `0 9 15 * *`"
   ]
  },
  {
   "cell_type": "markdown",
   "metadata": {},
   "source": [
    "# Q5. Viewing the Deployment\n",
    "\n",
    "How many flow runs are scheduled by Prefect in advance? You should not be counting manually. There is a number of upcoming runs on the top right of the dashboard.\n",
    "\n",
    "- 0\n",
    "- 3\n",
    "- 10\n",
    "- 25"
   ]
  },
  {
   "cell_type": "markdown",
   "metadata": {},
   "source": []
  },
  {
   "cell_type": "markdown",
   "metadata": {},
   "source": [
    "# Q6. Creating a work-queue\n",
    "\n",
    "What is the command to view the available work-queues?\n",
    "\n",
    "- `prefect work-queue inspect`\n",
    "- `prefect work-queue ls`\n",
    "- `prefect work-queue preview`\n",
    "- `prefect work-queue list`"
   ]
  },
  {
   "cell_type": "markdown",
   "metadata": {},
   "source": [
    "The command is `prefect work-queue preview`"
   ]
  }
 ],
 "metadata": {
  "language_info": {
   "name": "python"
  },
  "orig_nbformat": 4
 },
 "nbformat": 4,
 "nbformat_minor": 2
}
