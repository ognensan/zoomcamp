{
 "cells": [
  {
   "cell_type": "code",
   "execution_count": 2,
   "metadata": {},
   "outputs": [],
   "source": [
    "import os\n",
    "from mlflow.tracking import MlflowClient"
   ]
  },
  {
   "cell_type": "markdown",
   "metadata": {},
   "source": [
    "## Q1. Install MLflow\n",
    "\n",
    "To get started with MLflow you'll need to install the MLflow Python package.\n",
    "\n",
    "For this we recommend creating a separate Python environment, for example, you can use [conda environments](https://docs.conda.io/projects/conda/en/latest/user-guide/getting-started.html#managing-envs), and then install the package there with `pip` or `conda`.\n",
    "\n",
    "Once you installed the package, run the command `mlflow --version` and check the output.\n",
    "\n",
    "What's the version that you have?"
   ]
  },
  {
   "cell_type": "code",
   "execution_count": 1,
   "metadata": {},
   "outputs": [
    {
     "name": "stdout",
     "output_type": "stream",
     "text": [
      "mlflow, version 1.26.1\n"
     ]
    }
   ],
   "source": [
    "!mlflow --version"
   ]
  },
  {
   "cell_type": "markdown",
   "metadata": {},
   "source": [
    "## Q2. Download and preprocess the data\n",
    "\n",
    "We'll use the Green Taxi Trip Records dataset. \n",
    "\n",
    "Download the data for January, February and March 2021 in parquet format from [here](https://www1.nyc.gov/site/tlc/about/tlc-trip-record-data.page).\n",
    "\n",
    "Use the script `preprocess_data.py` located in the folder [`homework`](https://github.com/DataTalksClub/mlops-zoomcamp/tree/main/02-experiment-tracking/homework) to preprocess the data.\n",
    "\n",
    "The script will\n",
    "\n",
    "- load the data from the folder `<TAXI_DATA_FOLDER>` (the folder where you have downloaded the data),\n",
    "- fit a `DictVectorizer` on the training set (January 2021 data),\n",
    "- save the preprocessed datasets and the model to disk\n",
    "\n",
    "Your task is to download the datasets and then execute this command:\n",
    "\n",
    "```\n",
    "python preprocess_data.py --raw_data_path <TAXI_DATA_FOLDER> --dest_path ./output\n",
    "```\n",
    "\n",
    "Tip: go to `02-experiment-tracking/homework/` folder before executing the command and change the value of `<TAXI_DATA_FOLDER>` to the location where you saved the data.\n",
    "\n",
    "How many files were saved to `OUTPUT_FOLDER`?"
   ]
  },
  {
   "cell_type": "code",
   "execution_count": 6,
   "metadata": {},
   "outputs": [
    {
     "data": {
      "text/plain": [
       "['dv.pkl', 'test.pkl', 'train.pkl', 'valid.pkl']"
      ]
     },
     "execution_count": 6,
     "metadata": {},
     "output_type": "execute_result"
    }
   ],
   "source": [
    "!python ./utils/preprocess_data.py --raw_data_path ./data --dest_path ./output\n",
    "os.listdir('./output')"
   ]
  },
  {
   "cell_type": "markdown",
   "metadata": {},
   "source": [
    "## Q3. Train a model with autolog\n",
    "\n",
    "We will train a random forest regressor (from Scikit-Learn) on the taxi dataset.\n",
    "\n",
    "We have prepared the training script `train.py` for this exercise, which can be also found in the folder `homework`. The script will load the datasets produced by the previous step, train the model on the training set and finally calculate the RMSE on the validation set.\n",
    "\n",
    "Your task is to modify the script to enable **autologging** with MLflow, execute the script and then launch the MLflow UI to check that the experiment run was properly tracked. \n",
    "\n",
    "Tip 1: don't forget to wrap the training code with a `with mlflow.start_run():` statement as we showed in the videos.\n",
    "\n",
    "Tip 2: don't modify the hyperparameters of the model to make sure that the training will finish quickly.\n",
    "\n",
    "How many parameters are automatically logged by MLflow?"
   ]
  },
  {
   "cell_type": "code",
   "execution_count": 10,
   "metadata": {},
   "outputs": [
    {
     "name": "stdout",
     "output_type": "stream",
     "text": [
      "^C\n"
     ]
    }
   ],
   "source": [
    "# !mlflow ui --backend-store-uri sqlite:///mlflow.db --default-artifact-root ./mlruns"
   ]
  },
  {
   "cell_type": "markdown",
   "metadata": {},
   "source": [
    "http://localhost:5000/"
   ]
  },
  {
   "cell_type": "code",
   "execution_count": 12,
   "metadata": {},
   "outputs": [
    {
     "name": "stderr",
     "output_type": "stream",
     "text": [
      "2022/05/31 09:12:27 INFO mlflow.tracking.fluent: Autologging successfully enabled for sklearn.\n",
      "2022/05/31 09:12:30 INFO mlflow.tracking.fluent: Experiment with name 'nyc-taxi-experiment' does not exist. Creating a new experiment.\n",
      "2022/05/31 09:15:02 WARNING mlflow.utils.autologging_utils: MLflow autologging encountered a warning: \"c:\\Users\\ognen\\miniconda3\\envs\\mlops\\lib\\site-packages\\_distutils_hack\\__init__.py:30: UserWarning: Setuptools is replacing distutils.\"\n"
     ]
    }
   ],
   "source": [
    "!python ./utils/train.py"
   ]
  },
  {
   "cell_type": "code",
   "execution_count": 26,
   "metadata": {},
   "outputs": [
    {
     "data": {
      "text/plain": [
       "{'bootstrap': 'True',\n",
       " 'ccp_alpha': '0.0',\n",
       " 'criterion': 'squared_error',\n",
       " 'max_depth': '10',\n",
       " 'max_features': 'auto',\n",
       " 'max_leaf_nodes': 'None',\n",
       " 'max_samples': 'None',\n",
       " 'min_impurity_decrease': '0.0',\n",
       " 'min_samples_leaf': '1',\n",
       " 'min_samples_split': '2',\n",
       " 'min_weight_fraction_leaf': '0.0',\n",
       " 'n_estimators': '100',\n",
       " 'n_jobs': 'None',\n",
       " 'oob_score': 'False',\n",
       " 'random_state': '0',\n",
       " 'verbose': '0',\n",
       " 'warm_start': 'False'}"
      ]
     },
     "execution_count": 26,
     "metadata": {},
     "output_type": "execute_result"
    }
   ],
   "source": [
    "MLFLOW_TRACKING_URI = \"sqlite:///mlflow.db\"\n",
    "client = MlflowClient(tracking_uri=MLFLOW_TRACKING_URI)\n",
    "client.get_run('3e5c8f10dce3456a9f38b8cf8a9f156c').data.to_dictionary()['params']"
   ]
  },
  {
   "cell_type": "markdown",
   "metadata": {},
   "source": [
    "## Q4. Launch the tracking server locally\n",
    "\n",
    "We want to manage the entire lifecycle of our ML model. In this step, you'll need to launch a tracking server. This way we will also have access to the model registry. \n",
    "\n",
    "Your task is to\n",
    "\n",
    "* launch the tracking server on your local machine\n",
    "* select a SQLite db for the backend store and a folder called `artifacts` for the artifacts store\n",
    "\n",
    "You should keep the tracking server running to work on the next two exercises that use the server.\n",
    "\n",
    "In addition to `backend-store-uri`, what else do you need to pass to properly configure the server?"
   ]
  },
  {
   "cell_type": "code",
   "execution_count": 3,
   "metadata": {},
   "outputs": [],
   "source": [
    "# !mlflow server --backend-store-uri sqlite:///mlflow.db --default-artifact-root ./mlruns"
   ]
  },
  {
   "cell_type": "markdown",
   "metadata": {},
   "source": [
    "## Q5. Tune the hyperparameters of the model\n",
    "\n",
    "Now let's try to reduce the validation error by tuning the hyperparameters of the random forest regressor using `hyperopt`.\n",
    "\n",
    "We have prepared the script `hpo.py` for this exercise. \n",
    "\n",
    "Your task is to modify the script `hpo.py` and make sure that the validation RMSE is logged to MLflow for each run of the hyperparameter optimization (you will need to add a few lines of code to the `objective` function) and run the script without passing any parameters.\n",
    "\n",
    "After that, open the MLflow UI and explore the runs from the experiment called `random-forest-hyperopt` to answer the question below.\n",
    "\n",
    "Important: don't use autologging for this exercise.\n",
    "\n",
    "The idea is to just log the information that you need to answer the question below, including:\n",
    "\n",
    "* the list of hyperparameters that are passed to the `objective` function during the optimization.\n",
    "* the RMSE obtained on the validation set (February 2021 data).\n",
    "\n",
    "What's the best validation RMSE that you got?"
   ]
  },
  {
   "cell_type": "code",
   "execution_count": 5,
   "metadata": {},
   "outputs": [
    {
     "name": "stdout",
     "output_type": "stream",
     "text": [
      "\n",
      "  0%|          | 0/50 [00:00<?, ?trial/s, best loss=?]\n",
      "  2%|▏         | 1/50 [01:11<58:41, 71.86s/trial, best loss: 6.658956269343007]\n",
      "  4%|▍         | 2/50 [01:18<26:40, 33.35s/trial, best loss: 6.658956269343007]\n",
      "  6%|▌         | 3/50 [01:24<16:17, 20.80s/trial, best loss: 6.658956269343007]\n",
      "  8%|▊         | 4/50 [02:20<26:42, 34.83s/trial, best loss: 6.651438559376775]\n",
      " 10%|█         | 5/50 [02:42<22:37, 30.17s/trial, best loss: 6.651438559376775]\n",
      " 12%|█▏        | 6/50 [04:32<42:08, 57.46s/trial, best loss: 6.651438559376775]\n",
      " 14%|█▍        | 7/50 [06:27<54:37, 76.23s/trial, best loss: 6.651438559376775]\n",
      " 16%|█▌        | 8/50 [06:43<39:53, 57.00s/trial, best loss: 6.651438559376775]\n",
      " 18%|█▊        | 9/50 [07:45<40:01, 58.58s/trial, best loss: 6.651438559376775]\n",
      " 20%|██        | 10/50 [08:32<36:39, 54.99s/trial, best loss: 6.651438559376775]\n",
      " 22%|██▏       | 11/50 [09:12<32:49, 50.50s/trial, best loss: 6.642137287429206]\n",
      " 24%|██▍       | 12/50 [09:41<27:47, 43.88s/trial, best loss: 6.642137287429206]\n",
      " 26%|██▌       | 13/50 [09:50<20:33, 33.35s/trial, best loss: 6.642137287429206]\n",
      " 28%|██▊       | 14/50 [10:26<20:27, 34.09s/trial, best loss: 6.642137287429206]\n",
      " 30%|███       | 15/50 [11:17<22:53, 39.24s/trial, best loss: 6.642137287429206]\n",
      " 32%|███▏      | 16/50 [11:47<20:35, 36.34s/trial, best loss: 6.642137287429206]\n",
      " 34%|███▍      | 17/50 [12:40<22:46, 41.42s/trial, best loss: 6.642137287429206]\n",
      " 36%|███▌      | 18/50 [14:02<28:32, 53.51s/trial, best loss: 6.629728007710133]\n",
      " 38%|███▊      | 19/50 [14:21<22:20, 43.25s/trial, best loss: 6.629728007710133]\n",
      " 40%|████      | 20/50 [14:34<17:00, 34.02s/trial, best loss: 6.629728007710133]\n",
      " 42%|████▏     | 21/50 [16:30<28:23, 58.74s/trial, best loss: 6.629728007710133]\n",
      " 44%|████▍     | 22/50 [18:21<34:44, 74.44s/trial, best loss: 6.629728007710133]\n",
      " 46%|████▌     | 23/50 [21:45<51:00, 113.37s/trial, best loss: 6.629728007710133]\n",
      " 48%|████▊     | 24/50 [24:54<58:54, 135.93s/trial, best loss: 6.629728007710133]\n",
      " 50%|█████     | 25/50 [26:00<47:57, 115.12s/trial, best loss: 6.629728007710133]\n",
      " 52%|█████▏    | 26/50 [27:05<40:03, 100.13s/trial, best loss: 6.629728007710133]\n",
      " 54%|█████▍    | 27/50 [27:39<30:43, 80.15s/trial, best loss: 6.629728007710133] \n",
      " 56%|█████▌    | 28/50 [28:52<28:35, 77.98s/trial, best loss: 6.629728007710133]\n",
      " 58%|█████▊    | 29/50 [29:14<21:25, 61.21s/trial, best loss: 6.629728007710133]\n",
      " 60%|██████    | 30/50 [30:27<21:35, 64.78s/trial, best loss: 6.629728007710133]\n",
      " 62%|██████▏   | 31/50 [30:31<14:45, 46.60s/trial, best loss: 6.629728007710133]\n",
      " 64%|██████▍   | 32/50 [31:18<14:02, 46.80s/trial, best loss: 6.629728007710133]\n",
      " 66%|██████▌   | 33/50 [32:41<16:15, 57.40s/trial, best loss: 6.629728007710133]\n",
      " 68%|██████▊   | 34/50 [34:12<18:01, 67.57s/trial, best loss: 6.6284257482044735]\n",
      " 70%|███████   | 35/50 [34:56<15:09, 60.63s/trial, best loss: 6.6284257482044735]\n",
      " 72%|███████▏  | 36/50 [35:50<13:41, 58.67s/trial, best loss: 6.6284257482044735]\n",
      " 74%|███████▍  | 37/50 [35:52<09:01, 41.69s/trial, best loss: 6.6284257482044735]\n",
      " 76%|███████▌  | 38/50 [36:57<09:43, 48.62s/trial, best loss: 6.6284257482044735]\n",
      " 78%|███████▊  | 39/50 [38:20<10:48, 58.99s/trial, best loss: 6.6284257482044735]\n",
      " 80%|████████  | 40/50 [39:54<11:33, 69.36s/trial, best loss: 6.6284257482044735]\n",
      " 82%|████████▏ | 41/50 [40:12<08:04, 53.82s/trial, best loss: 6.6284257482044735]\n",
      " 84%|████████▍ | 42/50 [40:56<06:48, 51.05s/trial, best loss: 6.6284257482044735]\n",
      " 86%|████████▌ | 43/50 [42:43<07:55, 67.92s/trial, best loss: 6.6284257482044735]\n",
      " 88%|████████▊ | 44/50 [47:06<12:37, 126.21s/trial, best loss: 6.6284257482044735]\n",
      " 90%|█████████ | 45/50 [49:01<10:14, 122.82s/trial, best loss: 6.6284257482044735]\n",
      " 92%|█████████▏| 46/50 [49:30<06:18, 94.65s/trial, best loss: 6.6284257482044735] \n",
      " 94%|█████████▍| 47/50 [51:46<05:21, 107.31s/trial, best loss: 6.6284257482044735]\n",
      " 96%|█████████▌| 48/50 [52:46<03:05, 92.92s/trial, best loss: 6.6284257482044735] \n",
      " 98%|█████████▊| 49/50 [53:57<01:26, 86.50s/trial, best loss: 6.6284257482044735]\n",
      "100%|██████████| 50/50 [55:03<00:00, 80.15s/trial, best loss: 6.6284257482044735]\n",
      "100%|██████████| 50/50 [55:03<00:00, 66.06s/trial, best loss: 6.6284257482044735]\n"
     ]
    }
   ],
   "source": [
    "!python ./utils/hpo.py"
   ]
  },
  {
   "cell_type": "markdown",
   "metadata": {},
   "source": [
    "http://localhost:5000/"
   ]
  },
  {
   "cell_type": "code",
   "execution_count": 7,
   "metadata": {},
   "outputs": [
    {
     "data": {
      "text/plain": [
       "[<Experiment: artifact_location='./mlruns/0', experiment_id='0', lifecycle_stage='active', name='Default', tags={}>,\n",
       " <Experiment: artifact_location='./mlruns/1', experiment_id='1', lifecycle_stage='active', name='nyc-taxi-experiment', tags={}>,\n",
       " <Experiment: artifact_location='./mlruns/2', experiment_id='2', lifecycle_stage='active', name='random-forest-hyperopt', tags={}>]"
      ]
     },
     "execution_count": 7,
     "metadata": {},
     "output_type": "execute_result"
    }
   ],
   "source": [
    "client = MlflowClient(tracking_uri=\"http://127.0.0.1:5000\")\n",
    "client.list_experiments()"
   ]
  },
  {
   "cell_type": "code",
   "execution_count": 14,
   "metadata": {},
   "outputs": [
    {
     "name": "stdout",
     "output_type": "stream",
     "text": [
      "run id: 62fd3e8f6241437abf7de9c4d015b7fa, rmse: 6.628\n",
      "run id: cee2d27cd5bb47bcb21225ca693ab440, rmse: 6.630\n",
      "run id: 8f4c3e00975243ab995fb667a71d4e1d, rmse: 6.630\n"
     ]
    }
   ],
   "source": [
    "runs = client.search_runs(\n",
    "    experiment_ids='2',\n",
    "    max_results=3,\n",
    "    order_by=[\"metrics.rmse ASC\"]\n",
    ")\n",
    "\n",
    "for run in runs:\n",
    "    print(f\"run id: {run.info.run_id}, rmse: {run.data.metrics['rmse']:.3f}\")"
   ]
  },
  {
   "cell_type": "markdown",
   "metadata": {},
   "source": [
    "## Q6. Promote the best model to the model registry\n",
    "\n",
    "The results from the hyperparameter optimization are quite good so we can assume that we are ready to test some of these models in production. In this exercise, you'll promote the best model to the model registry. We have prepared a script called `register_model.py`, which will check the results from the previous step and select the top 5 runs. After that, it will calculate the RMSE of those models on the test set (March 2021 data) and save the results to a new experiment called `random-forest-best-models`.\n",
    "\n",
    "Your task is to update the script `register_model.py` so that it selects the model with the lowest RMSE on the test set and registers it to the model registry.\n",
    "\n",
    "Tip 1: you can use the method `search_runs` from the `MlflowClient` to get the model with the lowest RMSE.\n",
    "Tip 2: to register the model you can use the method `mlflow.register_model` and you will need to pass the right model_uri in the form of a string that looks like this: `\"runs:/<RUN_ID>/model\"`, and the name of the model (make sure to choose a good one!).\n",
    "\n",
    "What is the test RMSE of the best model?"
   ]
  },
  {
   "cell_type": "code",
   "execution_count": 1,
   "metadata": {},
   "outputs": [
    {
     "name": "stderr",
     "output_type": "stream",
     "text": [
      "2022/06/02 21:02:20 WARNING mlflow.utils.autologging_utils: MLflow autologging encountered a warning: \"c:\\Users\\ognen\\miniconda3\\envs\\mlops\\lib\\site-packages\\_distutils_hack\\__init__.py:30: UserWarning: Setuptools is replacing distutils.\"\n",
      "Successfully registered model 'random-forest-best-models'.\n",
      "2022/06/02 21:10:50 INFO mlflow.tracking._model_registry.client: Waiting up to 300 seconds for model version to finish creation.                     Model name: random-forest-best-models, version 1\n",
      "Created version '1' of model 'random-forest-best-models'.\n"
     ]
    }
   ],
   "source": [
    "!python ./utils/register_model.py"
   ]
  },
  {
   "cell_type": "code",
   "execution_count": 3,
   "metadata": {},
   "outputs": [],
   "source": [
    "client = MlflowClient(tracking_uri=\"http://127.0.0.1:5000\")"
   ]
  },
  {
   "cell_type": "code",
   "execution_count": 22,
   "metadata": {},
   "outputs": [
    {
     "data": {
      "text/plain": [
       "[<ModelVersion: creation_timestamp=1654168250788, current_stage='None', description='', last_updated_timestamp=1654168250788, name='random-forest-best-models', run_id='b6ee90c8ffc54d2498956757409cdd5b', run_link='', source='./mlruns/3/b6ee90c8ffc54d2498956757409cdd5b/artifacts/model', status='READY', status_message='', tags={}, user_id='', version='1'>]"
      ]
     },
     "execution_count": 22,
     "metadata": {},
     "output_type": "execute_result"
    }
   ],
   "source": [
    "client.get_registered_model(\"random-forest-best-models\")._latest_version"
   ]
  },
  {
   "cell_type": "code",
   "execution_count": 17,
   "metadata": {},
   "outputs": [
    {
     "data": {
      "text/plain": [
       "<Run: data=<RunData: metrics={'test_rmse': 6.547886185595423,\n",
       " 'training_mae': 3.7900404294512096,\n",
       " 'training_mse': 31.131050948533428,\n",
       " 'training_r2_score': 0.7671660211119171,\n",
       " 'training_rmse': 5.579520673725784,\n",
       " 'training_score': 0.7671660211119171,\n",
       " 'valid_rmse': 6.6284257482044735}, params={'bootstrap': 'True',\n",
       " 'ccp_alpha': '0.0',\n",
       " 'criterion': 'squared_error',\n",
       " 'max_depth': '19',\n",
       " 'max_features': 'auto',\n",
       " 'max_leaf_nodes': 'None',\n",
       " 'max_samples': 'None',\n",
       " 'min_impurity_decrease': '0.0',\n",
       " 'min_samples_leaf': '3',\n",
       " 'min_samples_split': '5',\n",
       " 'min_weight_fraction_leaf': '0.0',\n",
       " 'n_estimators': '28',\n",
       " 'n_jobs': 'None',\n",
       " 'oob_score': 'False',\n",
       " 'random_state': '42',\n",
       " 'verbose': '0',\n",
       " 'warm_start': 'False'}, tags={'estimator_class': 'sklearn.ensemble._forest.RandomForestRegressor',\n",
       " 'estimator_name': 'RandomForestRegressor',\n",
       " 'mlflow.log-model.history': '[{\"run_id\": \"b6ee90c8ffc54d2498956757409cdd5b\", '\n",
       "                             '\"artifact_path\": \"model\", \"utc_time_created\": '\n",
       "                             '\"2022-06-02 11:01:57.572600\", \"flavors\": '\n",
       "                             '{\"python_function\": {\"model_path\": \"model.pkl\", '\n",
       "                             '\"loader_module\": \"mlflow.sklearn\", '\n",
       "                             '\"python_version\": \"3.9.12\", \"env\": '\n",
       "                             '\"conda.yaml\"}, \"sklearn\": {\"pickled_model\": '\n",
       "                             '\"model.pkl\", \"sklearn_version\": \"1.0.2\", '\n",
       "                             '\"serialization_format\": \"cloudpickle\", \"code\": '\n",
       "                             'null}}, \"model_uuid\": '\n",
       "                             '\"5f3c8afb97f244048c428fa483689e6b\", '\n",
       "                             '\"mlflow_version\": \"1.26.1\", \"signature\": '\n",
       "                             '{\"inputs\": \"[{\\\\\"type\\\\\": \\\\\"tensor\\\\\", '\n",
       "                             '\\\\\"tensor-spec\\\\\": {\\\\\"dtype\\\\\": \\\\\"float64\\\\\", '\n",
       "                             '\\\\\"shape\\\\\": [-1, 13221]}}]\", \"outputs\": '\n",
       "                             '\"[{\\\\\"type\\\\\": \\\\\"tensor\\\\\", \\\\\"tensor-spec\\\\\": '\n",
       "                             '{\\\\\"dtype\\\\\": \\\\\"float64\\\\\", \\\\\"shape\\\\\": '\n",
       "                             '[-1]}}]\"}}]',\n",
       " 'mlflow.source.git.commit': 'c9307ad9322fdd4806f180faccc3798f85095b6f',\n",
       " 'mlflow.source.name': './utils/register_model.py',\n",
       " 'mlflow.source.type': 'LOCAL',\n",
       " 'mlflow.user': 'ognen'}>, info=<RunInfo: artifact_uri='./mlruns/3/b6ee90c8ffc54d2498956757409cdd5b/artifacts', end_time=1654167743170, experiment_id='3', lifecycle_stage='active', run_id='b6ee90c8ffc54d2498956757409cdd5b', run_uuid='b6ee90c8ffc54d2498956757409cdd5b', start_time=1654167626120, status='FINISHED', user_id='ognen'>>"
      ]
     },
     "execution_count": 17,
     "metadata": {},
     "output_type": "execute_result"
    }
   ],
   "source": [
    "client.get_run(run_id='b6ee90c8ffc54d2498956757409cdd5b')"
   ]
  },
  {
   "cell_type": "code",
   "execution_count": 20,
   "metadata": {},
   "outputs": [
    {
     "data": {
      "text/plain": [
       "[<Metric: key='test_rmse', step=0, timestamp=1654167743061, value=6.547886185595423>]"
      ]
     },
     "execution_count": 20,
     "metadata": {},
     "output_type": "execute_result"
    }
   ],
   "source": [
    "client.get_metric_history(run_id='b6ee90c8ffc54d2498956757409cdd5b', key='test_rmse')"
   ]
  }
 ],
 "metadata": {
  "interpreter": {
   "hash": "a33277998115a7736f0e2d4d6fff40d24f8cd4c3eda8b73401152c6b17438a51"
  },
  "kernelspec": {
   "display_name": "Python 3.9.12 ('mlops')",
   "language": "python",
   "name": "python3"
  },
  "language_info": {
   "codemirror_mode": {
    "name": "ipython",
    "version": 3
   },
   "file_extension": ".py",
   "mimetype": "text/x-python",
   "name": "python",
   "nbconvert_exporter": "python",
   "pygments_lexer": "ipython3",
   "version": "3.9.12"
  },
  "orig_nbformat": 4
 },
 "nbformat": 4,
 "nbformat_minor": 2
}
